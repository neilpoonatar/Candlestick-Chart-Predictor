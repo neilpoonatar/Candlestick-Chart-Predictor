{
 "cells": [
  {
   "cell_type": "code",
   "execution_count": 2,
   "metadata": {},
   "outputs": [
    {
     "name": "stdout",
     "output_type": "stream",
     "text": [
      "Requirement already satisfied: fastai==1.0.61 in c:\\users\\n\\anaconda3\\lib\\site-packages (1.0.61)\n",
      "Requirement already satisfied: fastprogress>=0.2.1 in c:\\users\\n\\anaconda3\\lib\\site-packages (from fastai==1.0.61) (1.0.0)\n",
      "Requirement already satisfied: matplotlib in c:\\users\\n\\anaconda3\\lib\\site-packages (from fastai==1.0.61) (3.3.2)\n",
      "Requirement already satisfied: numpy>=1.15 in c:\\users\\n\\anaconda3\\lib\\site-packages (from fastai==1.0.61) (1.19.2)\n",
      "Requirement already satisfied: torchvision in c:\\users\\n\\anaconda3\\lib\\site-packages (from fastai==1.0.61) (0.10.1)\n",
      "Requirement already satisfied: requests in c:\\users\\n\\anaconda3\\lib\\site-packages (from fastai==1.0.61) (2.24.0)\n",
      "Requirement already satisfied: scipy in c:\\users\\n\\anaconda3\\lib\\site-packages (from fastai==1.0.61) (1.5.2)\n",
      "Requirement already satisfied: beautifulsoup4 in c:\\users\\n\\anaconda3\\lib\\site-packages (from fastai==1.0.61) (4.9.3)\n",
      "Requirement already satisfied: packaging in c:\\users\\n\\anaconda3\\lib\\site-packages (from fastai==1.0.61) (20.4)\n",
      "Requirement already satisfied: numexpr in c:\\users\\n\\anaconda3\\lib\\site-packages (from fastai==1.0.61) (2.7.1)\n",
      "Requirement already satisfied: bottleneck in c:\\users\\n\\anaconda3\\lib\\site-packages (from fastai==1.0.61) (1.3.2)\n",
      "Requirement already satisfied: pandas in c:\\users\\n\\anaconda3\\lib\\site-packages (from fastai==1.0.61) (1.1.3)\n",
      "Requirement already satisfied: nvidia-ml-py3 in c:\\users\\n\\anaconda3\\lib\\site-packages (from fastai==1.0.61) (7.352.0)\n",
      "Requirement already satisfied: Pillow in c:\\users\\n\\anaconda3\\lib\\site-packages (from fastai==1.0.61) (8.0.1)\n",
      "Requirement already satisfied: torch>=1.0.0 in c:\\users\\n\\anaconda3\\lib\\site-packages (from fastai==1.0.61) (1.9.1)\n",
      "Requirement already satisfied: pyyaml in c:\\users\\n\\anaconda3\\lib\\site-packages (from fastai==1.0.61) (5.3.1)\n",
      "Requirement already satisfied: cycler>=0.10 in c:\\users\\n\\anaconda3\\lib\\site-packages (from matplotlib->fastai==1.0.61) (0.10.0)\n",
      "Requirement already satisfied: pyparsing!=2.0.4,!=2.1.2,!=2.1.6,>=2.0.3 in c:\\users\\n\\anaconda3\\lib\\site-packages (from matplotlib->fastai==1.0.61) (2.4.7)\n",
      "Requirement already satisfied: python-dateutil>=2.1 in c:\\users\\n\\anaconda3\\lib\\site-packages (from matplotlib->fastai==1.0.61) (2.8.1)\n",
      "Requirement already satisfied: certifi>=2020.06.20 in c:\\users\\n\\anaconda3\\lib\\site-packages (from matplotlib->fastai==1.0.61) (2020.6.20)\n",
      "Requirement already satisfied: kiwisolver>=1.0.1 in c:\\users\\n\\anaconda3\\lib\\site-packages (from matplotlib->fastai==1.0.61) (1.3.0)\n",
      "Requirement already satisfied: idna<3,>=2.5 in c:\\users\\n\\anaconda3\\lib\\site-packages (from requests->fastai==1.0.61) (2.10)\n",
      "Requirement already satisfied: chardet<4,>=3.0.2 in c:\\users\\n\\anaconda3\\lib\\site-packages (from requests->fastai==1.0.61) (3.0.4)\n",
      "Requirement already satisfied: urllib3!=1.25.0,!=1.25.1,<1.26,>=1.21.1 in c:\\users\\n\\anaconda3\\lib\\site-packages (from requests->fastai==1.0.61) (1.25.11)\n",
      "Requirement already satisfied: soupsieve>1.2; python_version >= \"3.0\" in c:\\users\\n\\anaconda3\\lib\\site-packages (from beautifulsoup4->fastai==1.0.61) (2.0.1)\n",
      "Requirement already satisfied: six in c:\\users\\n\\anaconda3\\lib\\site-packages (from packaging->fastai==1.0.61) (1.15.0)\n",
      "Requirement already satisfied: pytz>=2017.2 in c:\\users\\n\\anaconda3\\lib\\site-packages (from pandas->fastai==1.0.61) (2020.1)\n",
      "Requirement already satisfied: typing-extensions in c:\\users\\n\\anaconda3\\lib\\site-packages (from torch>=1.0.0->fastai==1.0.61) (3.7.4.3)\n",
      "Note: you may need to restart the kernel to use updated packages.\n"
     ]
    }
   ],
   "source": [
    "pip install fastai==1.0.61"
   ]
  },
  {
   "cell_type": "code",
   "execution_count": null,
   "metadata": {},
   "outputs": [],
   "source": []
  },
  {
   "cell_type": "code",
   "execution_count": 2,
   "metadata": {},
   "outputs": [],
   "source": [
    "%reload_ext autoreload\n",
    "%autoreload 2\n",
    "%matplotlib inline"
   ]
  },
  {
   "cell_type": "code",
   "execution_count": 3,
   "metadata": {},
   "outputs": [],
   "source": [
    "from fastai.vision import *\n",
    "from fastai.metrics import error_rate\n",
    "from fastai.metrics import Precision\n",
    "from fastai.metrics import Recall\n",
    "from fastai.metrics import FBeta\n",
    "\n",
    "\n",
    "\n"
   ]
  },
  {
   "cell_type": "code",
   "execution_count": 4,
   "metadata": {},
   "outputs": [],
   "source": [
    "from fastai.vision.data import ImageDataBunch"
   ]
  },
  {
   "cell_type": "code",
   "execution_count": 5,
   "metadata": {},
   "outputs": [],
   "source": [
    "from pathlib import Path\n",
    "import numpy as np"
   ]
  },
  {
   "cell_type": "code",
   "execution_count": 6,
   "metadata": {},
   "outputs": [],
   "source": [
    "bs = 64   # uncomment this line if you run out of memory even after clicking Kernel->Restart"
   ]
  },
  {
   "cell_type": "code",
   "execution_count": 7,
   "metadata": {},
   "outputs": [],
   "source": [
    "path=Path('Candle Data')\n",
    "path_save=Path('CandleDataProcessed')"
   ]
  },
  {
   "cell_type": "code",
   "execution_count": 8,
   "metadata": {},
   "outputs": [
    {
     "data": {
      "text/plain": [
       "[WindowsPath('Candle Data/.ipynb_checkpoints'),\n",
       " WindowsPath('Candle Data/Down'),\n",
       " WindowsPath('Candle Data/models'),\n",
       " WindowsPath('Candle Data/Up')]"
      ]
     },
     "execution_count": 8,
     "metadata": {},
     "output_type": "execute_result"
    }
   ],
   "source": [
    "path.ls()"
   ]
  },
  {
   "cell_type": "markdown",
   "metadata": {},
   "source": [
    "flip_vert: requires do_flip=True. If True, the image can be flipped vertically or rotated by 90 degrees, otherwise only an horizontal flip is applied.\n",
    "\n",
    "max_rotate: if not None, a random rotation between -max_rotate and max_rotate degrees is applied with probability p_affine\n",
    "\n",
    "max_zoom: if not 1. or less, a random zoom between 1. and max_zoom is applied with probability p_affine\n",
    "\n",
    "max_lighting: if not None, a random lightning and contrast change controlled by max_lighting is applied with probability p_lighting\n",
    "\n",
    "max_warp: if not None, a random symmetric warp of magnitude between -max_warp and maw_warp is applied with probability p_affine\n",
    "\n",
    "p_affine: the probability that each affine transform and symmetric warp is applied\n",
    "\n",
    "p_lighting: the probability that each lighting transform is applied\n"
   ]
  },
  {
   "cell_type": "code",
   "execution_count": 9,
   "metadata": {},
   "outputs": [
    {
     "name": "stderr",
     "output_type": "stream",
     "text": [
      "C:\\Users\\n\\anaconda3\\lib\\site-packages\\torch\\nn\\functional.py:3657: UserWarning: The default behavior for interpolate/upsample with float scale_factor changed in 1.6.0 to align with other frameworks/libraries, and now uses scale_factor directly, instead of relying on the computed output size. If you wish to restore the old behavior, please set recompute_scale_factor=True. See the documentation of nn.Upsample for details. \n",
      "  warnings.warn(\n",
      "C:\\Users\\n\\anaconda3\\lib\\site-packages\\torch\\nn\\functional.py:3657: UserWarning: The default behavior for interpolate/upsample with float scale_factor changed in 1.6.0 to align with other frameworks/libraries, and now uses scale_factor directly, instead of relying on the computed output size. If you wish to restore the old behavior, please set recompute_scale_factor=True. See the documentation of nn.Upsample for details. \n",
      "  warnings.warn(\n",
      "C:\\Users\\n\\anaconda3\\lib\\site-packages\\torch\\nn\\functional.py:3657: UserWarning: The default behavior for interpolate/upsample with float scale_factor changed in 1.6.0 to align with other frameworks/libraries, and now uses scale_factor directly, instead of relying on the computed output size. If you wish to restore the old behavior, please set recompute_scale_factor=True. See the documentation of nn.Upsample for details. \n",
      "  warnings.warn(\n",
      "C:\\Users\\n\\anaconda3\\lib\\site-packages\\torch\\nn\\functional.py:3657: UserWarning: The default behavior for interpolate/upsample with float scale_factor changed in 1.6.0 to align with other frameworks/libraries, and now uses scale_factor directly, instead of relying on the computed output size. If you wish to restore the old behavior, please set recompute_scale_factor=True. See the documentation of nn.Upsample for details. \n",
      "  warnings.warn(\n",
      "C:\\Users\\n\\anaconda3\\lib\\site-packages\\torch\\nn\\functional.py:3657: UserWarning: The default behavior for interpolate/upsample with float scale_factor changed in 1.6.0 to align with other frameworks/libraries, and now uses scale_factor directly, instead of relying on the computed output size. If you wish to restore the old behavior, please set recompute_scale_factor=True. See the documentation of nn.Upsample for details. \n",
      "  warnings.warn(\n",
      "C:\\Users\\n\\anaconda3\\lib\\site-packages\\torch\\nn\\functional.py:3657: UserWarning: The default behavior for interpolate/upsample with float scale_factor changed in 1.6.0 to align with other frameworks/libraries, and now uses scale_factor directly, instead of relying on the computed output size. If you wish to restore the old behavior, please set recompute_scale_factor=True. See the documentation of nn.Upsample for details. \n",
      "  warnings.warn(\n",
      "C:\\Users\\n\\anaconda3\\lib\\site-packages\\torch\\nn\\functional.py:3657: UserWarning: The default behavior for interpolate/upsample with float scale_factor changed in 1.6.0 to align with other frameworks/libraries, and now uses scale_factor directly, instead of relying on the computed output size. If you wish to restore the old behavior, please set recompute_scale_factor=True. See the documentation of nn.Upsample for details. \n",
      "  warnings.warn(\n",
      "C:\\Users\\n\\anaconda3\\lib\\site-packages\\torch\\nn\\functional.py:3657: UserWarning: The default behavior for interpolate/upsample with float scale_factor changed in 1.6.0 to align with other frameworks/libraries, and now uses scale_factor directly, instead of relying on the computed output size. If you wish to restore the old behavior, please set recompute_scale_factor=True. See the documentation of nn.Upsample for details. \n",
      "  warnings.warn(\n",
      "C:\\Users\\n\\anaconda3\\lib\\site-packages\\torch\\nn\\functional.py:3657: UserWarning: The default behavior for interpolate/upsample with float scale_factor changed in 1.6.0 to align with other frameworks/libraries, and now uses scale_factor directly, instead of relying on the computed output size. If you wish to restore the old behavior, please set recompute_scale_factor=True. See the documentation of nn.Upsample for details. \n",
      "  warnings.warn(\n",
      "C:\\Users\\n\\anaconda3\\lib\\site-packages\\torch\\nn\\functional.py:3657: UserWarning: The default behavior for interpolate/upsample with float scale_factor changed in 1.6.0 to align with other frameworks/libraries, and now uses scale_factor directly, instead of relying on the computed output size. If you wish to restore the old behavior, please set recompute_scale_factor=True. See the documentation of nn.Upsample for details. \n",
      "  warnings.warn(\n",
      "C:\\Users\\n\\anaconda3\\lib\\site-packages\\torch\\nn\\functional.py:3657: UserWarning: The default behavior for interpolate/upsample with float scale_factor changed in 1.6.0 to align with other frameworks/libraries, and now uses scale_factor directly, instead of relying on the computed output size. If you wish to restore the old behavior, please set recompute_scale_factor=True. See the documentation of nn.Upsample for details. \n",
      "  warnings.warn(\n",
      "C:\\Users\\n\\anaconda3\\lib\\site-packages\\torch\\nn\\functional.py:3657: UserWarning: The default behavior for interpolate/upsample with float scale_factor changed in 1.6.0 to align with other frameworks/libraries, and now uses scale_factor directly, instead of relying on the computed output size. If you wish to restore the old behavior, please set recompute_scale_factor=True. See the documentation of nn.Upsample for details. \n",
      "  warnings.warn(\n",
      "C:\\Users\\n\\anaconda3\\lib\\site-packages\\torch\\nn\\functional.py:3657: UserWarning: The default behavior for interpolate/upsample with float scale_factor changed in 1.6.0 to align with other frameworks/libraries, and now uses scale_factor directly, instead of relying on the computed output size. If you wish to restore the old behavior, please set recompute_scale_factor=True. See the documentation of nn.Upsample for details. \n",
      "  warnings.warn(\n",
      "C:\\Users\\n\\anaconda3\\lib\\site-packages\\torch\\nn\\functional.py:3657: UserWarning: The default behavior for interpolate/upsample with float scale_factor changed in 1.6.0 to align with other frameworks/libraries, and now uses scale_factor directly, instead of relying on the computed output size. If you wish to restore the old behavior, please set recompute_scale_factor=True. See the documentation of nn.Upsample for details. \n",
      "  warnings.warn(\n",
      "C:\\Users\\n\\anaconda3\\lib\\site-packages\\torch\\nn\\functional.py:3657: UserWarning: The default behavior for interpolate/upsample with float scale_factor changed in 1.6.0 to align with other frameworks/libraries, and now uses scale_factor directly, instead of relying on the computed output size. If you wish to restore the old behavior, please set recompute_scale_factor=True. See the documentation of nn.Upsample for details. \n",
      "  warnings.warn(\n",
      "C:\\Users\\n\\anaconda3\\lib\\site-packages\\torch\\nn\\functional.py:3657: UserWarning: The default behavior for interpolate/upsample with float scale_factor changed in 1.6.0 to align with other frameworks/libraries, and now uses scale_factor directly, instead of relying on the computed output size. If you wish to restore the old behavior, please set recompute_scale_factor=True. See the documentation of nn.Upsample for details. \n",
      "  warnings.warn(\n",
      "C:\\Users\\n\\anaconda3\\lib\\site-packages\\torch\\nn\\functional.py:3657: UserWarning: The default behavior for interpolate/upsample with float scale_factor changed in 1.6.0 to align with other frameworks/libraries, and now uses scale_factor directly, instead of relying on the computed output size. If you wish to restore the old behavior, please set recompute_scale_factor=True. See the documentation of nn.Upsample for details. \n",
      "  warnings.warn(\n",
      "C:\\Users\\n\\anaconda3\\lib\\site-packages\\torch\\nn\\functional.py:3657: UserWarning: The default behavior for interpolate/upsample with float scale_factor changed in 1.6.0 to align with other frameworks/libraries, and now uses scale_factor directly, instead of relying on the computed output size. If you wish to restore the old behavior, please set recompute_scale_factor=True. See the documentation of nn.Upsample for details. \n",
      "  warnings.warn(\n",
      "C:\\Users\\n\\anaconda3\\lib\\site-packages\\torch\\nn\\functional.py:3657: UserWarning: The default behavior for interpolate/upsample with float scale_factor changed in 1.6.0 to align with other frameworks/libraries, and now uses scale_factor directly, instead of relying on the computed output size. If you wish to restore the old behavior, please set recompute_scale_factor=True. See the documentation of nn.Upsample for details. \n",
      "  warnings.warn(\n",
      "C:\\Users\\n\\anaconda3\\lib\\site-packages\\torch\\nn\\functional.py:3657: UserWarning: The default behavior for interpolate/upsample with float scale_factor changed in 1.6.0 to align with other frameworks/libraries, and now uses scale_factor directly, instead of relying on the computed output size. If you wish to restore the old behavior, please set recompute_scale_factor=True. See the documentation of nn.Upsample for details. \n",
      "  warnings.warn(\n"
     ]
    },
    {
     "name": "stderr",
     "output_type": "stream",
     "text": [
      "C:\\Users\\n\\anaconda3\\lib\\site-packages\\torch\\nn\\functional.py:3657: UserWarning: The default behavior for interpolate/upsample with float scale_factor changed in 1.6.0 to align with other frameworks/libraries, and now uses scale_factor directly, instead of relying on the computed output size. If you wish to restore the old behavior, please set recompute_scale_factor=True. See the documentation of nn.Upsample for details. \n",
      "  warnings.warn(\n",
      "C:\\Users\\n\\anaconda3\\lib\\site-packages\\torch\\nn\\functional.py:3657: UserWarning: The default behavior for interpolate/upsample with float scale_factor changed in 1.6.0 to align with other frameworks/libraries, and now uses scale_factor directly, instead of relying on the computed output size. If you wish to restore the old behavior, please set recompute_scale_factor=True. See the documentation of nn.Upsample for details. \n",
      "  warnings.warn(\n",
      "C:\\Users\\n\\anaconda3\\lib\\site-packages\\torch\\nn\\functional.py:3657: UserWarning: The default behavior for interpolate/upsample with float scale_factor changed in 1.6.0 to align with other frameworks/libraries, and now uses scale_factor directly, instead of relying on the computed output size. If you wish to restore the old behavior, please set recompute_scale_factor=True. See the documentation of nn.Upsample for details. \n",
      "  warnings.warn(\n",
      "C:\\Users\\n\\anaconda3\\lib\\site-packages\\torch\\nn\\functional.py:3657: UserWarning: The default behavior for interpolate/upsample with float scale_factor changed in 1.6.0 to align with other frameworks/libraries, and now uses scale_factor directly, instead of relying on the computed output size. If you wish to restore the old behavior, please set recompute_scale_factor=True. See the documentation of nn.Upsample for details. \n",
      "  warnings.warn(\n",
      "C:\\Users\\n\\anaconda3\\lib\\site-packages\\torch\\nn\\functional.py:3657: UserWarning: The default behavior for interpolate/upsample with float scale_factor changed in 1.6.0 to align with other frameworks/libraries, and now uses scale_factor directly, instead of relying on the computed output size. If you wish to restore the old behavior, please set recompute_scale_factor=True. See the documentation of nn.Upsample for details. \n",
      "  warnings.warn(\n",
      "C:\\Users\\n\\anaconda3\\lib\\site-packages\\torch\\nn\\functional.py:3657: UserWarning: The default behavior for interpolate/upsample with float scale_factor changed in 1.6.0 to align with other frameworks/libraries, and now uses scale_factor directly, instead of relying on the computed output size. If you wish to restore the old behavior, please set recompute_scale_factor=True. See the documentation of nn.Upsample for details. \n",
      "  warnings.warn(\n",
      "C:\\Users\\n\\anaconda3\\lib\\site-packages\\torch\\nn\\functional.py:3657: UserWarning: The default behavior for interpolate/upsample with float scale_factor changed in 1.6.0 to align with other frameworks/libraries, and now uses scale_factor directly, instead of relying on the computed output size. If you wish to restore the old behavior, please set recompute_scale_factor=True. See the documentation of nn.Upsample for details. \n",
      "  warnings.warn(\n",
      "C:\\Users\\n\\anaconda3\\lib\\site-packages\\torch\\nn\\functional.py:3657: UserWarning: The default behavior for interpolate/upsample with float scale_factor changed in 1.6.0 to align with other frameworks/libraries, and now uses scale_factor directly, instead of relying on the computed output size. If you wish to restore the old behavior, please set recompute_scale_factor=True. See the documentation of nn.Upsample for details. \n",
      "  warnings.warn(\n",
      "C:\\Users\\n\\anaconda3\\lib\\site-packages\\torch\\nn\\functional.py:3657: UserWarning: The default behavior for interpolate/upsample with float scale_factor changed in 1.6.0 to align with other frameworks/libraries, and now uses scale_factor directly, instead of relying on the computed output size. If you wish to restore the old behavior, please set recompute_scale_factor=True. See the documentation of nn.Upsample for details. \n",
      "  warnings.warn(\n",
      "C:\\Users\\n\\anaconda3\\lib\\site-packages\\torch\\nn\\functional.py:3657: UserWarning: The default behavior for interpolate/upsample with float scale_factor changed in 1.6.0 to align with other frameworks/libraries, and now uses scale_factor directly, instead of relying on the computed output size. If you wish to restore the old behavior, please set recompute_scale_factor=True. See the documentation of nn.Upsample for details. \n",
      "  warnings.warn(\n",
      "C:\\Users\\n\\anaconda3\\lib\\site-packages\\torch\\nn\\functional.py:3657: UserWarning: The default behavior for interpolate/upsample with float scale_factor changed in 1.6.0 to align with other frameworks/libraries, and now uses scale_factor directly, instead of relying on the computed output size. If you wish to restore the old behavior, please set recompute_scale_factor=True. See the documentation of nn.Upsample for details. \n",
      "  warnings.warn(\n",
      "C:\\Users\\n\\anaconda3\\lib\\site-packages\\torch\\nn\\functional.py:3657: UserWarning: The default behavior for interpolate/upsample with float scale_factor changed in 1.6.0 to align with other frameworks/libraries, and now uses scale_factor directly, instead of relying on the computed output size. If you wish to restore the old behavior, please set recompute_scale_factor=True. See the documentation of nn.Upsample for details. \n",
      "  warnings.warn(\n",
      "C:\\Users\\n\\anaconda3\\lib\\site-packages\\torch\\nn\\functional.py:3657: UserWarning: The default behavior for interpolate/upsample with float scale_factor changed in 1.6.0 to align with other frameworks/libraries, and now uses scale_factor directly, instead of relying on the computed output size. If you wish to restore the old behavior, please set recompute_scale_factor=True. See the documentation of nn.Upsample for details. \n",
      "  warnings.warn(\n",
      "C:\\Users\\n\\anaconda3\\lib\\site-packages\\torch\\nn\\functional.py:3657: UserWarning: The default behavior for interpolate/upsample with float scale_factor changed in 1.6.0 to align with other frameworks/libraries, and now uses scale_factor directly, instead of relying on the computed output size. If you wish to restore the old behavior, please set recompute_scale_factor=True. See the documentation of nn.Upsample for details. \n",
      "  warnings.warn(\n",
      "C:\\Users\\n\\anaconda3\\lib\\site-packages\\torch\\nn\\functional.py:3657: UserWarning: The default behavior for interpolate/upsample with float scale_factor changed in 1.6.0 to align with other frameworks/libraries, and now uses scale_factor directly, instead of relying on the computed output size. If you wish to restore the old behavior, please set recompute_scale_factor=True. See the documentation of nn.Upsample for details. \n",
      "  warnings.warn(\n",
      "C:\\Users\\n\\anaconda3\\lib\\site-packages\\torch\\nn\\functional.py:3657: UserWarning: The default behavior for interpolate/upsample with float scale_factor changed in 1.6.0 to align with other frameworks/libraries, and now uses scale_factor directly, instead of relying on the computed output size. If you wish to restore the old behavior, please set recompute_scale_factor=True. See the documentation of nn.Upsample for details. \n",
      "  warnings.warn(\n",
      "C:\\Users\\n\\anaconda3\\lib\\site-packages\\torch\\nn\\functional.py:3657: UserWarning: The default behavior for interpolate/upsample with float scale_factor changed in 1.6.0 to align with other frameworks/libraries, and now uses scale_factor directly, instead of relying on the computed output size. If you wish to restore the old behavior, please set recompute_scale_factor=True. See the documentation of nn.Upsample for details. \n",
      "  warnings.warn(\n",
      "C:\\Users\\n\\anaconda3\\lib\\site-packages\\torch\\nn\\functional.py:3657: UserWarning: The default behavior for interpolate/upsample with float scale_factor changed in 1.6.0 to align with other frameworks/libraries, and now uses scale_factor directly, instead of relying on the computed output size. If you wish to restore the old behavior, please set recompute_scale_factor=True. See the documentation of nn.Upsample for details. \n",
      "  warnings.warn(\n",
      "C:\\Users\\n\\anaconda3\\lib\\site-packages\\torch\\nn\\functional.py:3657: UserWarning: The default behavior for interpolate/upsample with float scale_factor changed in 1.6.0 to align with other frameworks/libraries, and now uses scale_factor directly, instead of relying on the computed output size. If you wish to restore the old behavior, please set recompute_scale_factor=True. See the documentation of nn.Upsample for details. \n",
      "  warnings.warn(\n",
      "C:\\Users\\n\\anaconda3\\lib\\site-packages\\torch\\nn\\functional.py:3657: UserWarning: The default behavior for interpolate/upsample with float scale_factor changed in 1.6.0 to align with other frameworks/libraries, and now uses scale_factor directly, instead of relying on the computed output size. If you wish to restore the old behavior, please set recompute_scale_factor=True. See the documentation of nn.Upsample for details. \n",
      "  warnings.warn(\n",
      "C:\\Users\\n\\anaconda3\\lib\\site-packages\\torch\\nn\\functional.py:3657: UserWarning: The default behavior for interpolate/upsample with float scale_factor changed in 1.6.0 to align with other frameworks/libraries, and now uses scale_factor directly, instead of relying on the computed output size. If you wish to restore the old behavior, please set recompute_scale_factor=True. See the documentation of nn.Upsample for details. \n",
      "  warnings.warn(\n"
     ]
    },
    {
     "name": "stderr",
     "output_type": "stream",
     "text": [
      "C:\\Users\\n\\anaconda3\\lib\\site-packages\\torch\\nn\\functional.py:3657: UserWarning: The default behavior for interpolate/upsample with float scale_factor changed in 1.6.0 to align with other frameworks/libraries, and now uses scale_factor directly, instead of relying on the computed output size. If you wish to restore the old behavior, please set recompute_scale_factor=True. See the documentation of nn.Upsample for details. \n",
      "  warnings.warn(\n",
      "C:\\Users\\n\\anaconda3\\lib\\site-packages\\torch\\nn\\functional.py:3657: UserWarning: The default behavior for interpolate/upsample with float scale_factor changed in 1.6.0 to align with other frameworks/libraries, and now uses scale_factor directly, instead of relying on the computed output size. If you wish to restore the old behavior, please set recompute_scale_factor=True. See the documentation of nn.Upsample for details. \n",
      "  warnings.warn(\n",
      "C:\\Users\\n\\anaconda3\\lib\\site-packages\\torch\\nn\\functional.py:3657: UserWarning: The default behavior for interpolate/upsample with float scale_factor changed in 1.6.0 to align with other frameworks/libraries, and now uses scale_factor directly, instead of relying on the computed output size. If you wish to restore the old behavior, please set recompute_scale_factor=True. See the documentation of nn.Upsample for details. \n",
      "  warnings.warn(\n",
      "C:\\Users\\n\\anaconda3\\lib\\site-packages\\torch\\nn\\functional.py:3657: UserWarning: The default behavior for interpolate/upsample with float scale_factor changed in 1.6.0 to align with other frameworks/libraries, and now uses scale_factor directly, instead of relying on the computed output size. If you wish to restore the old behavior, please set recompute_scale_factor=True. See the documentation of nn.Upsample for details. \n",
      "  warnings.warn(\n",
      "C:\\Users\\n\\anaconda3\\lib\\site-packages\\torch\\nn\\functional.py:3657: UserWarning: The default behavior for interpolate/upsample with float scale_factor changed in 1.6.0 to align with other frameworks/libraries, and now uses scale_factor directly, instead of relying on the computed output size. If you wish to restore the old behavior, please set recompute_scale_factor=True. See the documentation of nn.Upsample for details. \n",
      "  warnings.warn(\n",
      "C:\\Users\\n\\anaconda3\\lib\\site-packages\\torch\\nn\\functional.py:3657: UserWarning: The default behavior for interpolate/upsample with float scale_factor changed in 1.6.0 to align with other frameworks/libraries, and now uses scale_factor directly, instead of relying on the computed output size. If you wish to restore the old behavior, please set recompute_scale_factor=True. See the documentation of nn.Upsample for details. \n",
      "  warnings.warn(\n",
      "C:\\Users\\n\\anaconda3\\lib\\site-packages\\torch\\nn\\functional.py:3657: UserWarning: The default behavior for interpolate/upsample with float scale_factor changed in 1.6.0 to align with other frameworks/libraries, and now uses scale_factor directly, instead of relying on the computed output size. If you wish to restore the old behavior, please set recompute_scale_factor=True. See the documentation of nn.Upsample for details. \n",
      "  warnings.warn(\n",
      "C:\\Users\\n\\anaconda3\\lib\\site-packages\\torch\\nn\\functional.py:3657: UserWarning: The default behavior for interpolate/upsample with float scale_factor changed in 1.6.0 to align with other frameworks/libraries, and now uses scale_factor directly, instead of relying on the computed output size. If you wish to restore the old behavior, please set recompute_scale_factor=True. See the documentation of nn.Upsample for details. \n",
      "  warnings.warn(\n",
      "C:\\Users\\n\\anaconda3\\lib\\site-packages\\torch\\nn\\functional.py:3657: UserWarning: The default behavior for interpolate/upsample with float scale_factor changed in 1.6.0 to align with other frameworks/libraries, and now uses scale_factor directly, instead of relying on the computed output size. If you wish to restore the old behavior, please set recompute_scale_factor=True. See the documentation of nn.Upsample for details. \n",
      "  warnings.warn(\n",
      "C:\\Users\\n\\anaconda3\\lib\\site-packages\\torch\\nn\\functional.py:3657: UserWarning: The default behavior for interpolate/upsample with float scale_factor changed in 1.6.0 to align with other frameworks/libraries, and now uses scale_factor directly, instead of relying on the computed output size. If you wish to restore the old behavior, please set recompute_scale_factor=True. See the documentation of nn.Upsample for details. \n",
      "  warnings.warn(\n",
      "C:\\Users\\n\\anaconda3\\lib\\site-packages\\torch\\nn\\functional.py:3657: UserWarning: The default behavior for interpolate/upsample with float scale_factor changed in 1.6.0 to align with other frameworks/libraries, and now uses scale_factor directly, instead of relying on the computed output size. If you wish to restore the old behavior, please set recompute_scale_factor=True. See the documentation of nn.Upsample for details. \n",
      "  warnings.warn(\n",
      "C:\\Users\\n\\anaconda3\\lib\\site-packages\\torch\\nn\\functional.py:3657: UserWarning: The default behavior for interpolate/upsample with float scale_factor changed in 1.6.0 to align with other frameworks/libraries, and now uses scale_factor directly, instead of relying on the computed output size. If you wish to restore the old behavior, please set recompute_scale_factor=True. See the documentation of nn.Upsample for details. \n",
      "  warnings.warn(\n",
      "C:\\Users\\n\\anaconda3\\lib\\site-packages\\torch\\nn\\functional.py:3657: UserWarning: The default behavior for interpolate/upsample with float scale_factor changed in 1.6.0 to align with other frameworks/libraries, and now uses scale_factor directly, instead of relying on the computed output size. If you wish to restore the old behavior, please set recompute_scale_factor=True. See the documentation of nn.Upsample for details. \n",
      "  warnings.warn(\n",
      "C:\\Users\\n\\anaconda3\\lib\\site-packages\\torch\\nn\\functional.py:3657: UserWarning: The default behavior for interpolate/upsample with float scale_factor changed in 1.6.0 to align with other frameworks/libraries, and now uses scale_factor directly, instead of relying on the computed output size. If you wish to restore the old behavior, please set recompute_scale_factor=True. See the documentation of nn.Upsample for details. \n",
      "  warnings.warn(\n",
      "C:\\Users\\n\\anaconda3\\lib\\site-packages\\torch\\nn\\functional.py:3657: UserWarning: The default behavior for interpolate/upsample with float scale_factor changed in 1.6.0 to align with other frameworks/libraries, and now uses scale_factor directly, instead of relying on the computed output size. If you wish to restore the old behavior, please set recompute_scale_factor=True. See the documentation of nn.Upsample for details. \n",
      "  warnings.warn(\n",
      "C:\\Users\\n\\anaconda3\\lib\\site-packages\\torch\\nn\\functional.py:3657: UserWarning: The default behavior for interpolate/upsample with float scale_factor changed in 1.6.0 to align with other frameworks/libraries, and now uses scale_factor directly, instead of relying on the computed output size. If you wish to restore the old behavior, please set recompute_scale_factor=True. See the documentation of nn.Upsample for details. \n",
      "  warnings.warn(\n",
      "C:\\Users\\n\\anaconda3\\lib\\site-packages\\torch\\nn\\functional.py:3657: UserWarning: The default behavior for interpolate/upsample with float scale_factor changed in 1.6.0 to align with other frameworks/libraries, and now uses scale_factor directly, instead of relying on the computed output size. If you wish to restore the old behavior, please set recompute_scale_factor=True. See the documentation of nn.Upsample for details. \n",
      "  warnings.warn(\n",
      "C:\\Users\\n\\anaconda3\\lib\\site-packages\\torch\\nn\\functional.py:3657: UserWarning: The default behavior for interpolate/upsample with float scale_factor changed in 1.6.0 to align with other frameworks/libraries, and now uses scale_factor directly, instead of relying on the computed output size. If you wish to restore the old behavior, please set recompute_scale_factor=True. See the documentation of nn.Upsample for details. \n",
      "  warnings.warn(\n",
      "C:\\Users\\n\\anaconda3\\lib\\site-packages\\torch\\nn\\functional.py:3657: UserWarning: The default behavior for interpolate/upsample with float scale_factor changed in 1.6.0 to align with other frameworks/libraries, and now uses scale_factor directly, instead of relying on the computed output size. If you wish to restore the old behavior, please set recompute_scale_factor=True. See the documentation of nn.Upsample for details. \n",
      "  warnings.warn(\n",
      "C:\\Users\\n\\anaconda3\\lib\\site-packages\\torch\\nn\\functional.py:3657: UserWarning: The default behavior for interpolate/upsample with float scale_factor changed in 1.6.0 to align with other frameworks/libraries, and now uses scale_factor directly, instead of relying on the computed output size. If you wish to restore the old behavior, please set recompute_scale_factor=True. See the documentation of nn.Upsample for details. \n",
      "  warnings.warn(\n"
     ]
    },
    {
     "name": "stderr",
     "output_type": "stream",
     "text": [
      "C:\\Users\\n\\anaconda3\\lib\\site-packages\\torch\\nn\\functional.py:3657: UserWarning: The default behavior for interpolate/upsample with float scale_factor changed in 1.6.0 to align with other frameworks/libraries, and now uses scale_factor directly, instead of relying on the computed output size. If you wish to restore the old behavior, please set recompute_scale_factor=True. See the documentation of nn.Upsample for details. \n",
      "  warnings.warn(\n",
      "C:\\Users\\n\\anaconda3\\lib\\site-packages\\torch\\nn\\functional.py:3657: UserWarning: The default behavior for interpolate/upsample with float scale_factor changed in 1.6.0 to align with other frameworks/libraries, and now uses scale_factor directly, instead of relying on the computed output size. If you wish to restore the old behavior, please set recompute_scale_factor=True. See the documentation of nn.Upsample for details. \n",
      "  warnings.warn(\n",
      "C:\\Users\\n\\anaconda3\\lib\\site-packages\\torch\\nn\\functional.py:3657: UserWarning: The default behavior for interpolate/upsample with float scale_factor changed in 1.6.0 to align with other frameworks/libraries, and now uses scale_factor directly, instead of relying on the computed output size. If you wish to restore the old behavior, please set recompute_scale_factor=True. See the documentation of nn.Upsample for details. \n",
      "  warnings.warn(\n",
      "C:\\Users\\n\\anaconda3\\lib\\site-packages\\torch\\nn\\functional.py:3657: UserWarning: The default behavior for interpolate/upsample with float scale_factor changed in 1.6.0 to align with other frameworks/libraries, and now uses scale_factor directly, instead of relying on the computed output size. If you wish to restore the old behavior, please set recompute_scale_factor=True. See the documentation of nn.Upsample for details. \n",
      "  warnings.warn(\n",
      "C:\\Users\\n\\anaconda3\\lib\\site-packages\\torch\\nn\\functional.py:3657: UserWarning: The default behavior for interpolate/upsample with float scale_factor changed in 1.6.0 to align with other frameworks/libraries, and now uses scale_factor directly, instead of relying on the computed output size. If you wish to restore the old behavior, please set recompute_scale_factor=True. See the documentation of nn.Upsample for details. \n",
      "  warnings.warn(\n",
      "C:\\Users\\n\\anaconda3\\lib\\site-packages\\torch\\nn\\functional.py:3657: UserWarning: The default behavior for interpolate/upsample with float scale_factor changed in 1.6.0 to align with other frameworks/libraries, and now uses scale_factor directly, instead of relying on the computed output size. If you wish to restore the old behavior, please set recompute_scale_factor=True. See the documentation of nn.Upsample for details. \n",
      "  warnings.warn(\n"
     ]
    }
   ],
   "source": [
    "np.random.seed(42)\n",
    "data = ImageDataBunch.from_folder(path, \n",
    "                                  train=\".\", \n",
    "                                  valid_pct=0.2,\n",
    "                                  ds_tfms=get_transforms(flip_vert=False, max_lighting=0.1, max_zoom=1.05, max_warp=0.,max_rotate=3), \n",
    "                                  size=224, \n",
    "                                  num_workers=4).normalize(imagenet_stats)"
   ]
  },
  {
   "cell_type": "code",
   "execution_count": 10,
   "metadata": {},
   "outputs": [
    {
     "data": {
      "text/plain": [
       "['Down', 'Up']"
      ]
     },
     "execution_count": 10,
     "metadata": {},
     "output_type": "execute_result"
    }
   ],
   "source": [
    "data.classes"
   ]
  },
  {
   "cell_type": "code",
   "execution_count": 27,
   "metadata": {},
   "outputs": [
    {
     "name": "stdout",
     "output_type": "stream",
     "text": [
      "LabelList (201 items)\n",
      "x: ImageList\n",
      "Image (3, 224, 224),Image (3, 224, 224),Image (3, 224, 224),Image (3, 224, 224),Image (3, 224, 224)\n",
      "y: CategoryList\n",
      "Up,Up,Up,Up,Down\n",
      "Path: Candle Data\n",
      "...\n",
      "LabelList (808 items)\n",
      "x: ImageList\n",
      "Image (3, 224, 224),Image (3, 224, 224),Image (3, 224, 224),Image (3, 224, 224),Image (3, 224, 224)\n",
      "y: CategoryList\n",
      "Down,Down,Down,Down,Down\n",
      "Path: Candle Data\n",
      "...\n"
     ]
    }
   ],
   "source": [
    "print(data.valid_ds)\n",
    "print(\"...\")\n",
    "print(data.train_ds)\n",
    "print(\"...\")"
   ]
  },
  {
   "cell_type": "code",
   "execution_count": null,
   "metadata": {},
   "outputs": [],
   "source": []
  },
  {
   "cell_type": "code",
   "execution_count": 12,
   "metadata": {},
   "outputs": [
    {
     "name": "stdout",
     "output_type": "stream",
     "text": [
      "None\n"
     ]
    }
   ],
   "source": [
    "print(data.test_ds)"
   ]
  },
  {
   "cell_type": "code",
   "execution_count": 13,
   "metadata": {},
   "outputs": [],
   "source": [
    "precision = Precision()\n",
    "recall = Recall()\n",
    "f1score = FBeta()\n"
   ]
  },
  {
   "cell_type": "code",
   "execution_count": 14,
   "metadata": {},
   "outputs": [],
   "source": [
    "learn = cnn_learner(data, models.resnet34, metrics=[error_rate, precision, recall, f1score])"
   ]
  },
  {
   "cell_type": "code",
   "execution_count": 15,
   "metadata": {},
   "outputs": [
    {
     "data": {
      "text/html": [
       "<table border=\"1\" class=\"dataframe\">\n",
       "  <thead>\n",
       "    <tr style=\"text-align: left;\">\n",
       "      <th>epoch</th>\n",
       "      <th>train_loss</th>\n",
       "      <th>valid_loss</th>\n",
       "      <th>error_rate</th>\n",
       "      <th>precision</th>\n",
       "      <th>recall</th>\n",
       "      <th>f_beta</th>\n",
       "      <th>time</th>\n",
       "    </tr>\n",
       "  </thead>\n",
       "  <tbody>\n",
       "    <tr>\n",
       "      <td>0</td>\n",
       "      <td>1.200574</td>\n",
       "      <td>0.877805</td>\n",
       "      <td>0.487562</td>\n",
       "      <td>0.562500</td>\n",
       "      <td>0.490909</td>\n",
       "      <td>0.503731</td>\n",
       "      <td>01:38</td>\n",
       "    </tr>\n",
       "    <tr>\n",
       "      <td>1</td>\n",
       "      <td>1.227748</td>\n",
       "      <td>1.081724</td>\n",
       "      <td>0.457711</td>\n",
       "      <td>0.591837</td>\n",
       "      <td>0.527273</td>\n",
       "      <td>0.539033</td>\n",
       "      <td>01:40</td>\n",
       "    </tr>\n",
       "    <tr>\n",
       "      <td>2</td>\n",
       "      <td>1.113888</td>\n",
       "      <td>0.933739</td>\n",
       "      <td>0.437811</td>\n",
       "      <td>0.590164</td>\n",
       "      <td>0.654545</td>\n",
       "      <td>0.640569</td>\n",
       "      <td>01:35</td>\n",
       "    </tr>\n",
       "    <tr>\n",
       "      <td>3</td>\n",
       "      <td>1.088697</td>\n",
       "      <td>0.919510</td>\n",
       "      <td>0.432836</td>\n",
       "      <td>0.595041</td>\n",
       "      <td>0.654545</td>\n",
       "      <td>0.641711</td>\n",
       "      <td>01:39</td>\n",
       "    </tr>\n",
       "  </tbody>\n",
       "</table>"
      ],
      "text/plain": [
       "<IPython.core.display.HTML object>"
      ]
     },
     "metadata": {},
     "output_type": "display_data"
    }
   ],
   "source": [
    "learn.fit_one_cycle(4)"
   ]
  },
  {
   "cell_type": "markdown",
   "metadata": {},
   "source": [
    "The training loss indicates how well the model is fitting the training data, while the validation loss indicates how well the model fits new data.\n",
    "\n",
    "Goal: validation loss should be similar to but slightly higher than training loss.\n",
    "\n",
    "If target values are categorical, the error is expressed as an error rate. This is the proportion of cases where the prediction is wrong."
   ]
  },
  {
   "cell_type": "code",
   "execution_count": 17,
   "metadata": {},
   "outputs": [],
   "source": [
    "# learn.fit_one_cycle(10, max_lr=slice(1e-6,1e-4))"
   ]
  },
  {
   "cell_type": "code",
   "execution_count": 18,
   "metadata": {
    "scrolled": false
   },
   "outputs": [],
   "source": [
    "# learn.fit_one_cycle(5, max_lr=slice(1e-6,1e-4))"
   ]
  },
  {
   "cell_type": "code",
   "execution_count": 19,
   "metadata": {
    "scrolled": true
   },
   "outputs": [],
   "source": [
    "# learn.fit_one_cycle(5,max_lr=slice(1e-5,1e-4))"
   ]
  },
  {
   "cell_type": "code",
   "execution_count": 20,
   "metadata": {},
   "outputs": [],
   "source": [
    "# learn.save('Model 1')"
   ]
  },
  {
   "cell_type": "code",
   "execution_count": null,
   "metadata": {},
   "outputs": [],
   "source": [
    "# data = ImageDataBunch.from_folder(path, train=\".\", valid_pct=0.2, ds_tfms=get_transforms(flip_vert=False, max_lighting=0.1, max_zoom=1.05, max_warp=0.,max_rotate=3), size=352, num_workers=4).normalize(imagenet_stats)"
   ]
  },
  {
   "cell_type": "code",
   "execution_count": 21,
   "metadata": {},
   "outputs": [],
   "source": [
    "# learn.data=data"
   ]
  },
  {
   "cell_type": "code",
   "execution_count": 22,
   "metadata": {},
   "outputs": [],
   "source": [
    "# gc.collect()"
   ]
  },
  {
   "cell_type": "code",
   "execution_count": 23,
   "metadata": {},
   "outputs": [],
   "source": [
    "# learn.fit_one_cycle(5,max_lr=slice(1e-5,1e-4))"
   ]
  },
  {
   "cell_type": "code",
   "execution_count": 24,
   "metadata": {},
   "outputs": [],
   "source": [
    "# learn.fit_one_cycle(5,max_lr=slice(1e-6,1e-5))"
   ]
  },
  {
   "cell_type": "code",
   "execution_count": null,
   "metadata": {},
   "outputs": [],
   "source": []
  },
  {
   "cell_type": "code",
   "execution_count": 25,
   "metadata": {},
   "outputs": [],
   "source": [
    "import warnings\n",
    "warnings.filterwarnings('ignore')"
   ]
  },
  {
   "cell_type": "code",
   "execution_count": 30,
   "metadata": {},
   "outputs": [
    {
     "name": "stdout",
     "output_type": "stream",
     "text": [
      "Len:  201\n"
     ]
    }
   ],
   "source": [
    "correcti=0\n",
    "list_down=[]\n",
    "list_up=[]\n",
    "print(\"Len: \", len(data.valid_ds))\n"
   ]
  },
  {
   "cell_type": "markdown",
   "metadata": {},
   "source": [
    "learn.predict()\n",
    "It returns a tuple of three elements with, in reverse order,\n",
    "\n",
    "the prediction from the model, potentially passed through the activation of the loss function (if it has one)\n",
    "the decoded prediction, using the potential decodes method from it\n",
    "the fully decoded prediction, using the transforms used to build the Datasets/DataLoaders\n"
   ]
  },
  {
   "cell_type": "code",
   "execution_count": 32,
   "metadata": {},
   "outputs": [
    {
     "name": "stdout",
     "output_type": "stream",
     "text": [
      "Confidently predicted (Up):  1\n",
      "\n",
      "Confidently predicted (Down):  4\n",
      "\n",
      "Confidently predicted (Up):  5\n",
      "\n",
      "Confidently predicted (Down):  9\n",
      "\n",
      "Confidently predicted (Down):  11\n",
      "\n",
      "Confidently predicted (Up):  13\n",
      "\n",
      "Confidently predicted (Down):  14\n",
      "\n",
      "Confidently predicted (Up):  16\n",
      "\n",
      "Confidently predicted (Down):  18\n",
      "\n",
      "Confidently predicted (Up):  20\n",
      "\n",
      "Confidently predicted (Up):  21\n",
      "\n",
      "Confidently predicted (Down):  32\n",
      "\n",
      "Confidently predicted (Down):  33\n",
      "\n",
      "Confidently predicted (Up):  34\n",
      "\n",
      "Confidently predicted (Up):  36\n",
      "\n",
      "Confidently predicted (Down):  38\n",
      "\n",
      "Confidently predicted (Down):  39\n",
      "\n",
      "Confidently predicted (Down):  45\n",
      "\n",
      "Confidently predicted (Up):  47\n",
      "\n",
      "Confidently predicted (Up):  48\n",
      "\n",
      "Confidently predicted (Up):  53\n",
      "\n",
      "Confidently predicted (Up):  55\n",
      "\n",
      "Confidently predicted (Up):  60\n",
      "\n",
      "Confidently predicted (Up):  63\n",
      "\n",
      "Confidently predicted (Up):  65\n",
      "\n",
      "Confidently predicted (Up):  68\n",
      "\n",
      "Confidently predicted (Down):  70\n",
      "\n",
      "Confidently predicted (Down):  72\n",
      "\n",
      "Confidently predicted (Up):  75\n",
      "\n",
      "Confidently predicted (Down):  78\n",
      "\n",
      "Confidently predicted (Up):  79\n",
      "\n",
      "Confidently predicted (Down):  81\n",
      "\n",
      "Confidently predicted (Up):  85\n",
      "\n",
      "Confidently predicted (Up):  86\n",
      "\n",
      "Confidently predicted (Up):  87\n",
      "\n",
      "Confidently predicted (Down):  88\n",
      "\n",
      "Confidently predicted (Up):  89\n",
      "\n",
      "Confidently predicted (Up):  90\n",
      "\n",
      "Confidently predicted (Up):  91\n",
      "\n",
      "Confidently predicted (Up):  94\n",
      "\n",
      "Confidently predicted (Down):  95\n",
      "\n",
      "Confidently predicted (Down):  96\n",
      "\n",
      "Confidently predicted (Up):  100\n",
      "\n",
      "Confidently predicted (Up):  103\n",
      "\n",
      "Confidently predicted (Up):  104\n",
      "\n",
      "Confidently predicted (Up):  106\n",
      "\n",
      "Confidently predicted (Up):  107\n",
      "\n",
      "Confidently predicted (Up):  109\n",
      "\n",
      "Confidently predicted (Up):  111\n",
      "\n",
      "Confidently predicted (Up):  113\n",
      "\n",
      "Confidently predicted (Up):  116\n",
      "\n",
      "Confidently predicted (Down):  118\n",
      "\n",
      "Confidently predicted (Up):  119\n",
      "\n",
      "Confidently predicted (Up):  121\n",
      "\n",
      "Confidently predicted (Up):  127\n",
      "\n",
      "Confidently predicted (Up):  131\n",
      "\n",
      "Confidently predicted (Up):  132\n",
      "\n",
      "Confidently predicted (Up):  134\n",
      "\n",
      "Confidently predicted (Down):  137\n",
      "\n",
      "Confidently predicted (Down):  140\n",
      "\n",
      "Confidently predicted (Down):  143\n",
      "\n",
      "Confidently predicted (Up):  144\n",
      "\n",
      "Confidently predicted (Up):  145\n",
      "\n",
      "Confidently predicted (Up):  148\n",
      "\n",
      "Confidently predicted (Up):  151\n",
      "\n",
      "Confidently predicted (Up):  156\n",
      "\n",
      "Confidently predicted (Down):  160\n",
      "\n",
      "Confidently predicted (Up):  161\n",
      "\n",
      "Confidently predicted (Up):  162\n",
      "\n",
      "Confidently predicted (Up):  164\n",
      "\n",
      "Confidently predicted (Up):  166\n",
      "\n",
      "Confidently predicted (Down):  170\n",
      "\n",
      "Confidently predicted (Up):  183\n",
      "\n",
      "Confidently predicted (Up):  184\n",
      "\n",
      "Confidently predicted (Up):  192\n",
      "\n",
      "Confidently predicted (Up):  193\n",
      "\n",
      "Confidently predicted (Down):  199\n",
      "\n"
     ]
    }
   ],
   "source": [
    "for i in range(len(data.valid_ds)):\n",
    "    \n",
    "    #print(\"\\ndata.valid_ds[i]: \", data.valid_ds[i])\n",
    "    #print(\"data.valid_ds[i][1]: \", data.valid_ds[i][1])\n",
    "    prediction=learn.predict(data.valid_ds[i][0])\n",
    "    #print(\"inital prediction: \", prediction)\n",
    "    \n",
    "    if str(data.valid_ds[i][1])==\"Down\" and bool(prediction[1]==0) :\n",
    "        correcti=correcti+1\n",
    "        if prediction[2][0] >= 0.75 :\n",
    "            list_down=list_down + [i]\n",
    "            print(\"Confidently predicted (Down): \", i)\n",
    "            print()\n",
    "            \n",
    "    if str(data.valid_ds[i][1])==\"Up\" and bool(prediction[1]==1) :\n",
    "        correcti=correcti+1\n",
    "        if prediction[2][1] >= 0.75 :\n",
    "            list_up=list_up + [i]\n",
    "            print(\"Confidently predicted (Up): \", i)\n",
    "            print()\n",
    "            "
   ]
  },
  {
   "cell_type": "code",
   "execution_count": 33,
   "metadata": {},
   "outputs": [
    {
     "name": "stdout",
     "output_type": "stream",
     "text": [
      "Validation dataset:  201\n",
      "Correctly predicted:  114\n",
      "Greater than 75% prediction confidence:  77\n"
     ]
    },
    {
     "data": {
      "text/plain": [
       "(24, 53)"
      ]
     },
     "execution_count": 33,
     "metadata": {},
     "output_type": "execute_result"
    }
   ],
   "source": [
    "print(\"Validation dataset: \", len(data.valid_ds))\n",
    "\n",
    "print(\"Correctly predicted: \", correcti)\n",
    "\n",
    "print(\"Greater than 75% prediction confidence: \", len(list_down)+len(list_up))\n",
    "len(list_down),len(list_up)"
   ]
  },
  {
   "cell_type": "code",
   "execution_count": 34,
   "metadata": {},
   "outputs": [],
   "source": [
    "test_input1 = data.valid_ds[132][0]"
   ]
  },
  {
   "cell_type": "code",
   "execution_count": 35,
   "metadata": {},
   "outputs": [],
   "source": [
    "test_input2 = data.valid_ds[11][0]"
   ]
  },
  {
   "cell_type": "code",
   "execution_count": null,
   "metadata": {},
   "outputs": [],
   "source": []
  },
  {
   "cell_type": "code",
   "execution_count": null,
   "metadata": {},
   "outputs": [],
   "source": []
  },
  {
   "cell_type": "code",
   "execution_count": null,
   "metadata": {},
   "outputs": [],
   "source": []
  },
  {
   "cell_type": "markdown",
   "metadata": {},
   "source": [
    "# Testing the Model: User Perspective"
   ]
  },
  {
   "cell_type": "code",
   "execution_count": 36,
   "metadata": {},
   "outputs": [
    {
     "data": {
      "image/jpeg": "[encoded data removed]",
      "image/png": "[encoded data removed]",
      "text/plain": [
       "Image (3, 224, 224)"
      ]
     },
     "execution_count": 36,
     "metadata": {},
     "output_type": "execute_result"
    }
   ],
   "source": [
    "test_input2"
   ]
  },
  {
   "cell_type": "code",
   "execution_count": 37,
   "metadata": {},
   "outputs": [],
   "source": [
    "#prediction=learn.predict(test_input1)\n",
    "prediction=learn.predict(test_input2)"
   ]
  },
  {
   "cell_type": "code",
   "execution_count": 38,
   "metadata": {},
   "outputs": [
    {
     "data": {
      "text/plain": [
       "(Category tensor(0), tensor(0), tensor([0.9484, 0.0516]))"
      ]
     },
     "execution_count": 38,
     "metadata": {},
     "output_type": "execute_result"
    }
   ],
   "source": [
    "prediction"
   ]
  },
  {
   "cell_type": "code",
   "execution_count": 39,
   "metadata": {},
   "outputs": [],
   "source": [
    "def application_output(prediction):\n",
    "    print(prediction[2])\n",
    "    if bool(prediction[1]==0):\n",
    "        print(\"Trend Predicted: Down\")\n",
    "    elif bool(prediction[1]==1):\n",
    "        print(\"Trend Predicted: Up\")"
   ]
  },
  {
   "cell_type": "code",
   "execution_count": 40,
   "metadata": {},
   "outputs": [
    {
     "name": "stdout",
     "output_type": "stream",
     "text": [
      "tensor([0.9484, 0.0516])\n",
      "Trend Predicted: Down\n"
     ]
    }
   ],
   "source": [
    "application_output(prediction)"
   ]
  },
  {
   "cell_type": "code",
   "execution_count": null,
   "metadata": {},
   "outputs": [],
   "source": []
  },
  {
   "cell_type": "code",
   "execution_count": null,
   "metadata": {},
   "outputs": [],
   "source": []
  }
 ],
 "metadata": {
  "kernelspec": {
   "display_name": "Python 3",
   "language": "python",
   "name": "python3"
  },
  "language_info": {
   "codemirror_mode": {
    "name": "ipython",
    "version": 3
   },
   "file_extension": ".py",
   "mimetype": "text/x-python",
   "name": "python",
   "nbconvert_exporter": "python",
   "pygments_lexer": "ipython3",
   "version": "3.8.5"
  }
 },
 "nbformat": 4,
 "nbformat_minor": 4
}
